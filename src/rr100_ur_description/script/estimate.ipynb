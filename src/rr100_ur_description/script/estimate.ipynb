{
 "cells": [
  {
   "cell_type": "code",
   "execution_count": null,
   "metadata": {
    "jupyter": {
     "source_hidden": true
    },
    "scrolled": true
   },
   "outputs": [],
   "source": [
    "!pip install mayavi configobj"
   ]
  },
  {
   "cell_type": "code",
   "execution_count": null,
   "metadata": {},
   "outputs": [],
   "source": [
    "import estimate, rospy\n",
    "import numpy as np\n",
    "import matplotlib.pyplot as plt\n",
    "import matplotlib\n",
    "from mayavi import mlab\n",
    "from tvtk.api import tvtk\n",
    "from datetime import datetime\n",
    "\n",
    "from placo_utils.tf import tf as ptf\n",
    "import math\n",
    "\n",
    "%matplotlib qt"
   ]
  },
  {
   "cell_type": "code",
   "execution_count": null,
   "metadata": {},
   "outputs": [],
   "source": [
    "load_from_file = False\n",
    "reached_file = 'reached_20x30x40_2024_07_29-11_30_10_AM.sav'\n",
    "rejected_file = 'rejected_20x30x40_2024_07_29-11_30_10_AM.sav'\n",
    "shape = (20, 30, 40)"
   ]
  },
  {
   "cell_type": "code",
   "execution_count": null,
   "metadata": {},
   "outputs": [],
   "source": [
    "rospy.init_node('test')\n",
    "sampler = estimate.WorkspaceSampler(\n",
    "    'base_footprint', '/kinematics_server/check_collision', '/kinematics_server/goal_pose', \n",
    "    shape, [-1.25, -0.45981], [-0.75, 0.75], [0.0, 2.1], prefix='ur_'\n",
    ")"
   ]
  },
  {
   "cell_type": "code",
   "execution_count": null,
   "metadata": {},
   "outputs": [],
   "source": [
    "if load_from_file:\n",
    "    with open(f'log/{reached_file}', 'rb') as f:\n",
    "        reached = np.load(f)\n",
    "    \n",
    "    with open(f'log/{rejected_file}', 'rb') as f:\n",
    "        rejected = np.load(f)\n",
    "else:\n",
    "    reached, rejected = sampler.sample_reachable_points()"
   ]
  },
  {
   "cell_type": "code",
   "execution_count": null,
   "metadata": {},
   "outputs": [],
   "source": [
    "if not load_from_file:\n",
    "    date = datetime.now().strftime(\"%Y_%m_%d-%I_%M_%S_%p\")\n",
    "    shape_str = f'{shape[0]}x{shape[1]}x{shape[2]}'\n",
    "    with open(f'./log/reached_{shape_str}_{date}.sav', 'wb') as f:\n",
    "        np.save(f, reached)\n",
    "        \n",
    "    with open(f'./log/rejected_{shape_str}_{date}.sav', 'wb') as f:\n",
    "        np.save(f, rejected)"
   ]
  },
  {
   "cell_type": "code",
   "execution_count": null,
   "metadata": {},
   "outputs": [],
   "source": [
    "reached = np.array(reached)\n",
    "rejected = np.array(rejected)\n",
    "rxs, rys, rzs = reached[:, 0, 3], reached[:, 1, 3], reached[:, 2, 3]\n",
    "nxs, nys, nzs = rejected[:, 0, 3], rejected[:, 1, 3], rejected[:, 2, 3]\n",
    "pos = np.stack((rxs, rys, rzs), axis=1)"
   ]
  },
  {
   "cell_type": "code",
   "execution_count": null,
   "metadata": {},
   "outputs": [],
   "source": [
    "with open('log/reached_20x30x40_2024_07_29-11_30_10_AM.sav', 'rb') as f:\n",
    "    low_reached = np.load(f)\n",
    "\n",
    "with open('log/rejected_20x30x40_2024_07_29-11_30_10_AM.sav', 'rb') as f:\n",
    "    low_rejected = np.load(f)"
   ]
  },
  {
   "cell_type": "code",
   "execution_count": null,
   "metadata": {},
   "outputs": [],
   "source": [
    "print(f'Nb points reached not elevated : {low_reached.shape[0]}')\n",
    "print(f'Nb points reached elevated : {reached.shape[0]}')\n",
    "\n",
    "print(f'Nb points rejected not elevated : {low_rejected.shape[0]}')\n",
    "print(f'Nb points rejected elevated : {rejected.shape[0]}')"
   ]
  },
  {
   "cell_type": "code",
   "execution_count": null,
   "metadata": {},
   "outputs": [],
   "source": [
    "def cuboid_data(o, size=(1,1,1)):\n",
    "    X = [[[0, 1, 0], [0, 0, 0], [1, 0, 0], [1, 1, 0]],\n",
    "         [[0, 0, 0], [0, 0, 1], [1, 0, 1], [1, 0, 0]],\n",
    "         [[1, 0, 1], [1, 0, 0], [1, 1, 0], [1, 1, 1]],\n",
    "         [[0, 0, 1], [0, 0, 0], [0, 1, 0], [0, 1, 1]],\n",
    "         [[0, 1, 0], [0, 1, 1], [1, 1, 1], [1, 1, 0]],\n",
    "         [[0, 1, 1], [0, 0, 1], [1, 0, 1], [1, 1, 1]]]\n",
    "    X = np.array(X).astype(float)\n",
    "    for i in range(3):\n",
    "        X[:,:,i] *= size[i]\n",
    "    X += np.array(o)\n",
    "    return X\n",
    "\n",
    "def plotCubeAt(position, size=None, color='C0', **kwargs):\n",
    "    cube = cuboid_data(position, size=size)\n",
    "    return Poly3DCollection(cube, **kwargs)"
   ]
  },
  {
   "cell_type": "code",
   "execution_count": null,
   "metadata": {},
   "outputs": [],
   "source": [
    "def get_cuboid(pos, size=(1,1,1)):\n",
    "    x, y, z = [0, 1], [0, 1], [0, 1]\n",
    "    vertices = np.vstack(np.meshgrid(x,y,z)).reshape(3,-1).T\n",
    "    vertices = np.array(vertices).astype(float)\n",
    "    for i, s in enumerate(size):\n",
    "        vertices[:, i] *= s\n",
    "    vertices += np.array(pos)\n",
    "    xx, yy, zz = vertices[:, 0], vertices[:, 1], vertices[:, 2]\n",
    "    faces = [\n",
    "        [0, 1, 2],\n",
    "        [1, 2, 3],\n",
    "        [0, 1, 4],\n",
    "        [1, 5, 4],\n",
    "        [1, 3, 5],\n",
    "        [3, 7, 5],\n",
    "        [2, 3, 6],\n",
    "        [3, 7, 6],\n",
    "        [0, 2, 4],\n",
    "        [2, 6, 4],\n",
    "        [4, 5, 6],\n",
    "        [5, 7, 6]\n",
    "    ]\n",
    "    return xx, yy, zz, faces\n",
    "\n",
    "def plot_cuboid(pos, size=(1,1,1), **kwargs):\n",
    "    xx, yy, zz, faces = get_cuboid(pos, size)\n",
    "    return mlab.triangular_mesh(xx, yy, zz, faces, **kwargs)"
   ]
  },
  {
   "cell_type": "code",
   "execution_count": null,
   "metadata": {},
   "outputs": [],
   "source": [
    "def isin_tolerance(A, B, tol):\n",
    "    A = np.asarray(A)\n",
    "    B = np.asarray(B)\n",
    "\n",
    "    Bs = np.sort(B) # skip if already sorted\n",
    "    idx = np.searchsorted(Bs, A)\n",
    "\n",
    "    linvalid_mask = idx==len(B)\n",
    "    idx[linvalid_mask] = len(B)-1\n",
    "    lval = Bs[idx] - A\n",
    "    lval[linvalid_mask] *=-1\n",
    "\n",
    "    rinvalid_mask = idx==0\n",
    "    idx1 = idx-1\n",
    "    idx1[rinvalid_mask] = 0\n",
    "    rval = A - Bs[idx1]\n",
    "    rval[rinvalid_mask] *=-1\n",
    "    return np.minimum(lval, rval) <= tol"
   ]
  },
  {
   "cell_type": "code",
   "execution_count": null,
   "metadata": {},
   "outputs": [],
   "source": [
    "class VoxelPlotter:\n",
    "    def __init__(self, fig, sampler, pos, centroids) -> None:\n",
    "        \n",
    "        self.index = -1\n",
    "        self.fig = fig\n",
    "        self.fig.scene.interactor.add_observer('KeyPressEvent', self.handle_keypress)\n",
    "        \n",
    "        self.pos = pos\n",
    "        self.Z = sampler.zs\n",
    "        self.n_z = len(self.Z)\n",
    "        \n",
    "        self.xstep = sampler.xs[1] - sampler.xs[0]\n",
    "        self.ystep = sampler.ys[1] - sampler.ys[0]\n",
    "        self.zstep = sampler.zs[1] - sampler.zs[0]\n",
    "\n",
    "        xmin = np.min(sampler.xs) - self.xstep\n",
    "        xmax = np.max(sampler.xs) + self.xstep\n",
    "        ymin = np.min(sampler.ys) - 1\n",
    "        ymax = np.max(sampler.ys) + 1\n",
    "        zmin = np.min(sampler.zs) - self.zstep\n",
    "        zmax = np.max(sampler.zs) + self.zstep\n",
    "        self.bounds = np.array([xmin, xmax, ymin, ymax, zmin, zmax])\n",
    "        \n",
    "        # Define mlab pipeline\n",
    "        source = mlab.pipeline.scalar_scatter(pos[:, 0], pos[:, 1], pos[:, 2], figure=fig)\n",
    "        source2 = mlab.pipeline.scalar_scatter(centroids[:, :, 0], centroids[:, :, 1], centroids[:, :, 2], figure=fig)\n",
    "\n",
    "        \n",
    "        self.clip = mlab.pipeline.data_set_clipper(source, figure=fig)\n",
    "        self.clip.widget.widget.enabled = False\n",
    "        \n",
    "        self.clip.widget.widget_mode = 'Box'\n",
    "        self.clip.filter.clip_function.set_bounds(self.bounds)\n",
    "        self.clip.filter.inside_out = True\n",
    "        self.clip.filter.use_value_as_offset = False\n",
    "\n",
    "        \n",
    "        self.clip_reach = mlab.pipeline.data_set_clipper(source2, figure=fig)\n",
    "        self.clip_reach.widget.widget.enabled = False\n",
    "        \n",
    "        self.clip_reach.widget.widget_mode = 'Box'\n",
    "        self.clip_reach.filter.clip_function.set_bounds(self.bounds)\n",
    "        self.clip_reach.filter.inside_out = True\n",
    "        self.clip_reach.filter.use_value_as_offset = False\n",
    "        \n",
    "        \n",
    "        self.points = mlab.pipeline.glyph(self.clip, figure=fig, color=(0.5, 0., 0.5), mode='cube')\n",
    "        self.points.glyph.glyph_source.glyph_source.x_length = self.xstep * 0.9\n",
    "        self.points.glyph.glyph_source.glyph_source.y_length = self.ystep * 0.9\n",
    "        self.points.glyph.glyph_source.glyph_source.z_length = self.zstep * 0.9\n",
    "\n",
    "        self.reachable_points = mlab.pipeline.glyph(self.clip_reach, figure=fig, color=(1.0, 0.65, 0.), mode='sphere')\n",
    "        self.reachable_points.glyph.glyph_source.glyph_source.radius = self.xstep * 0.9\n",
    "        self.reachable_points.visible = False\n",
    "        \n",
    "        \n",
    "        self.z_label = mlab.text(0.95, 0.9, '', figure=fig, width=0.10)\n",
    "        self.z_label.visible = False\n",
    "        self.z_label.actor.text_scale_mode = 'viewport'\n",
    "        self.z_label.property.background_color = (170/255, 170/255, 255/255)\n",
    "        self.z_label.property.background_opacity = 0.5\n",
    "        self.z_label.property.justification = 'right'\n",
    "        self.z_label.property.vertical_justification = 'centered'\n",
    "    \n",
    "        mlab.draw(figure=self.fig)\n",
    "    \n",
    "    \n",
    "    def handle_keypress(self, vtk_obj, event) -> None:\n",
    "        key = vtk_obj.GetKeySym()\n",
    "        if key == 'Home':\n",
    "            self.index = (self.index + 1) if self.index < self.n_z - 1 else 0\n",
    "            self.update()\n",
    "        elif key == 'End':\n",
    "            self.index = (self.index - 1) if self.index > 0 else self.n_z - 1\n",
    "            self.update()\n",
    "        elif key == 'BackSpace':\n",
    "            self.index = -1\n",
    "            self.update()\n",
    "        \n",
    "    \n",
    "    def update(self) -> None:\n",
    "        if self.index < 0:\n",
    "            self.z_label.text = ''\n",
    "            self.clip.filter.clip_function.set_bounds(self.bounds)\n",
    "            self.reachable_points.visible = False\n",
    "        else:\n",
    "            self.reachable_points.visible = True\n",
    "            self.z_label.visible = True\n",
    "            self.z_label.text = f'Current Z : {self.Z[self.index]:.5f}'\n",
    "            zmin = self.Z[self.index] - self.zstep / 2\n",
    "            zmax = self.Z[self.index] + self.zstep / 2\n",
    "            self.clip.filter.clip_function.set_bounds([*self.bounds[:4], zmin, zmax])\n",
    "            self.clip_reach.filter.clip_function.set_bounds([*self.bounds[:4], zmin, zmax])\n",
    "        \n",
    "        self.z_label.update_pipeline()\n",
    "        mlab.draw(figure=self.fig)"
   ]
  },
  {
   "cell_type": "code",
   "execution_count": null,
   "metadata": {},
   "outputs": [],
   "source": [
    "def get_angles(pos) -> list:\n",
    "        shifted = pos.copy()\n",
    "        shifted[:, 0] -= -0.45981# max X in setup, should probably parametrize but oh well\n",
    "        # shifted[:, :2] *= -1\n",
    "        shifted[:, 0] *= -1\n",
    "        angles = np.arctan2(shifted[:, 0], shifted[:, 1])\n",
    "        \n",
    "        return list(zip(pos, angles))\n",
    "\n",
    "\n",
    "def find_centroids(pos, Z, n_sections : int = 5):\n",
    "    points, angles = list(zip(*get_angles(pos)))\n",
    "    points, angles = np.array(points), np.array(angles)\n",
    "    centroids = [[] for _ in range(Z.shape[0])]\n",
    "    sections = []\n",
    "    previous = 0\n",
    "    angle_step = np.pi / n_sections\n",
    "    for i in range(n_sections):\n",
    "        current = angle_step * (i + 1)\n",
    "        sections.append(points[(angles < current) & (angles >= previous)])\n",
    "        previous = current\n",
    "        \n",
    "    sections = np.array(sections)\n",
    "    for i, z in enumerate(Z):\n",
    "        for section in sections:\n",
    "            P = section[np.isclose(section[:, 2], z)]\n",
    "            if not len(P):\n",
    "                centroids[i].append([float('nan')] * 3)\n",
    "                continue\n",
    "            x = P[:, 0].mean()\n",
    "            y = P[:, 1].mean()\n",
    "            centroids[i].append([x, y, z])\n",
    "    print(centroids)\n",
    "    return np.array(centroids)"
   ]
  },
  {
   "cell_type": "code",
   "execution_count": null,
   "metadata": {
    "scrolled": true
   },
   "outputs": [],
   "source": [
    "reachable_centroids = find_centroids(pos, sampler.zs)"
   ]
  },
  {
   "cell_type": "code",
   "execution_count": null,
   "metadata": {},
   "outputs": [],
   "source": [
    "layers = []\n",
    "## SERIALIZED POINTS ARE IN THE X, Y ORDER\n",
    "for i, centroids in enumerate(reachable_centroids):\n",
    "    if np.isnan(centroids).all():\n",
    "        continue\n",
    "    layers.append({\n",
    "        'layer_z' : sampler.zs[i],\n",
    "        'points' : centroids[:, :2].tolist()\n",
    "    })"
   ]
  },
  {
   "cell_type": "code",
   "execution_count": null,
   "metadata": {},
   "outputs": [],
   "source": [
    "import json\n",
    "with open(f'../config/reachable_points.json', 'w') as f:\n",
    "    json.dump(layers, f)"
   ]
  },
  {
   "cell_type": "code",
   "execution_count": null,
   "metadata": {},
   "outputs": [],
   "source": [
    "visible = True\n",
    "def handle_keypress(event, _):\n",
    "    global visible, points\n",
    "    key = event.GetKeySym()\n",
    "    if key == 'x':\n",
    "        visible = not visible\n",
    "        points.visible = visible\n",
    "\n",
    "fig = mlab.figure(bgcolor=(1., 1., 1.),fgcolor=(0., 0., 0.))\n",
    "points = mlab.points3d(nxs, nys, nzs, figure=fig, color=(1., 0., 0.), opacity=0.25, scale_factor=0.025)\n",
    "mlab.axes()\n",
    "\n",
    "t = VoxelPlotter(fig, sampler, pos, reachable_centroids)\n",
    "rr100 = plot_cuboid([-0.860/2, -0.65850 / 2, 0.0], size=(0.45981 * 2, 0.65850, 0.80091), figure=fig, color=(0.,0.,1.), opacity=0.5)\n",
    "\n",
    "fig.scene.interactor.add_observer('KeyPressEvent', handle_keypress)\n",
    "\n",
    "mlab.show()"
   ]
  },
  {
   "cell_type": "code",
   "execution_count": null,
   "metadata": {},
   "outputs": [],
   "source": [
    "manipulable, n_manipulable = sampler.sample_manipulable_points(reached)"
   ]
  },
  {
   "cell_type": "code",
   "execution_count": null,
   "metadata": {},
   "outputs": [],
   "source": [
    "manipulable = np.array(manipulable)\n",
    "n_manipulable = np.array(n_manipulable)\n",
    "xs, ys, zs = manipulable[:, 0, 3], manipulable[:, 1, 3], manipulable[:, 2, 3]\n",
    "nxs, nys, nzs = n_manipulable[:, 0, 3], n_manipulable[:, 1, 3], n_manipulable[:, 2, 3]\n",
    "pos = np.stack((xs, ys, zs), axis=1)"
   ]
  },
  {
   "cell_type": "code",
   "execution_count": null,
   "metadata": {},
   "outputs": [],
   "source": [
    "visible = True\n",
    "def handle_keypress(event, _):\n",
    "    global visible, points\n",
    "    key = event.GetKeySym()\n",
    "    if key == 'x':\n",
    "        visible = not visible\n",
    "        points.visible = visible\n",
    "\n",
    "fig = mlab.figure(bgcolor=(1., 1., 1.),fgcolor=(0., 0., 0.))\n",
    "fig.scene.interactor.add_observer('KeyPressEvent', handle_keypress)\n",
    "        \n",
    "points = mlab.points3d(nxs, nys, nzs, figure=fig, color=(1., 0., 0.), opacity=0.25, scale_factor=0.025)\n",
    "mlab.axes()\n",
    "\n",
    "t = VoxelPlotter(fig, sampler, pos)\n",
    "rr100 = plot_cuboid([-0.860/2, -0.65850 / 2, 0.0], size=(0.45981 * 2, 0.65850, 0.80091), figure=fig, color=(0.,0.,1.), opacity=0.5)\n",
    "\n",
    "mlab.show()"
   ]
  },
  {
   "cell_type": "code",
   "execution_count": null,
   "metadata": {},
   "outputs": [],
   "source": [
    "def segment_points(points, num_sections=10) -> np.ndarray:\n",
    "    angle_step: float = np.pi / num_sections\n",
    "    "
   ]
  }
 ],
 "metadata": {
  "kernelspec": {
   "display_name": "Python 3 (ipykernel)",
   "language": "python",
   "name": "python3"
  },
  "language_info": {
   "codemirror_mode": {
    "name": "ipython",
    "version": 3
   },
   "file_extension": ".py",
   "mimetype": "text/x-python",
   "name": "python",
   "nbconvert_exporter": "python",
   "pygments_lexer": "ipython3",
   "version": "3.8.10"
  }
 },
 "nbformat": 4,
 "nbformat_minor": 4
}
