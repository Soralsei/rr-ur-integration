{
 "cells": [
  {
   "cell_type": "code",
   "execution_count": 1,
   "metadata": {
    "scrolled": true
   },
   "outputs": [
    {
     "name": "stdout",
     "output_type": "stream",
     "text": [
      "Requirement already satisfied: mayavi in /usr/local/lib/python3.8/dist-packages (4.8.2)\n",
      "Requirement already satisfied: configobj in /usr/local/lib/python3.8/dist-packages (5.0.8)\n",
      "Requirement already satisfied: pyyaml in /usr/lib/python3/dist-packages (5.3.1)\n",
      "Requirement already satisfied: apptools in /usr/local/lib/python3.8/dist-packages (from mayavi) (5.3.0)\n",
      "Requirement already satisfied: envisage in /usr/local/lib/python3.8/dist-packages (from mayavi) (7.0.3)\n",
      "Requirement already satisfied: packaging in /usr/local/lib/python3.8/dist-packages (from mayavi) (24.1)\n",
      "Requirement already satisfied: traitsui>=7.0.0 in /usr/local/lib/python3.8/dist-packages (from mayavi) (8.0.0)\n",
      "Requirement already satisfied: vtk in /usr/local/lib/python3.8/dist-packages (from mayavi) (9.3.1)\n",
      "Requirement already satisfied: pyface>=6.1.1 in /usr/local/lib/python3.8/dist-packages (from mayavi) (8.0.0)\n",
      "Requirement already satisfied: traits>=6.0.0 in /usr/local/lib/python3.8/dist-packages (from mayavi) (6.4.3)\n",
      "Requirement already satisfied: numpy in /usr/lib/python3/dist-packages (from mayavi) (1.17.4)\n",
      "Requirement already satisfied: pygments in /usr/local/lib/python3.8/dist-packages (from mayavi) (2.18.0)\n",
      "Requirement already satisfied: six in /usr/lib/python3/dist-packages (from configobj) (1.14.0)\n",
      "Requirement already satisfied: setuptools in /usr/lib/python3/dist-packages (from envisage->mayavi) (45.2.0)\n",
      "Requirement already satisfied: importlib-resources>=1.1.0; python_version < \"3.9\" in /usr/local/lib/python3.8/dist-packages (from envisage->mayavi) (6.4.0)\n",
      "Requirement already satisfied: matplotlib>=2.0.0 in /usr/lib/python3/dist-packages (from vtk->mayavi) (3.1.2)\n",
      "Requirement already satisfied: importlib-metadata>=3.6; python_version < \"3.10\" in /usr/local/lib/python3.8/dist-packages (from pyface>=6.1.1->mayavi) (8.2.0)\n",
      "Requirement already satisfied: zipp>=3.1.0; python_version < \"3.10\" in /usr/local/lib/python3.8/dist-packages (from importlib-resources>=1.1.0; python_version < \"3.9\"->envisage->mayavi) (3.19.2)\n",
      "Note: you may need to restart the kernel to use updated packages.\n"
     ]
    }
   ],
   "source": [
    "%pip install mayavi configobj pyyaml"
   ]
  },
  {
   "cell_type": "code",
   "execution_count": 2,
   "metadata": {},
   "outputs": [
    {
     "name": "stderr",
     "output_type": "stream",
     "text": [
      "<frozen importlib._bootstrap>:219: RuntimeWarning: to-Python converter for std::vector<std::__cxx11::basic_string<char, std::char_traits<char>, std::allocator<char> >, std::allocator<std::__cxx11::basic_string<char, std::char_traits<char>, std::allocator<char> > > > already registered; second conversion method ignored.\n",
      "<frozen importlib._bootstrap>:219: RuntimeWarning: to-Python converter for std::vector<double, std::allocator<double> > already registered; second conversion method ignored.\n",
      "<frozen importlib._bootstrap>:219: RuntimeWarning: to-Python converter for std::vector<int, std::allocator<int> > already registered; second conversion method ignored.\n",
      "QStandardPaths: XDG_RUNTIME_DIR not set, defaulting to '/tmp/runtime-root'\n",
      "/usr/local/lib/python3.8/dist-packages/traits/etsconfig/etsconfig.py:425: UserWarning: Environment variable \"HOME\" not set, setting home directory to /tmp\n",
      "  warn(\n"
     ]
    }
   ],
   "source": [
    "import estimate, rospy\n",
    "import numpy as np\n",
    "import matplotlib.pyplot as plt\n",
    "import matplotlib\n",
    "from mayavi import mlab\n",
    "from tvtk.api import tvtk\n",
    "from datetime import datetime\n",
    "\n",
    "from placo_utils.tf import tf as ptf\n",
    "import math\n",
    "\n",
    "%matplotlib qt"
   ]
  },
  {
   "cell_type": "code",
   "execution_count": 4,
   "metadata": {},
   "outputs": [],
   "source": [
    "load_from_file = True\n",
    "reached_file = 'reached_10x10x10_2024_09_07-02_37_16_PM.sav'\n",
    "rejected_file = 'rejected_10x10x10_2024_09_07-02_37_16_PM.sav'\n",
    "shape = (10,)"
   ]
  },
  {
   "cell_type": "code",
   "execution_count": 5,
   "metadata": {},
   "outputs": [],
   "source": [
    "if not load_from_file:\n",
    "    rospy.init_node('test')\n",
    "sampler = estimate.WorkspaceSampler(\n",
    "    'base_footprint', '/kinematics_server/check_collision', '/kinematics_server/goal_pose', \n",
    "    shape, [-1.25, -0.45981], [-0.75, 0.75], [0.0, 2.1], prefix='ur_', connect=(not load_from_file)\n",
    ")"
   ]
  },
  {
   "cell_type": "code",
   "execution_count": 6,
   "metadata": {
    "scrolled": true
   },
   "outputs": [],
   "source": [
    "if load_from_file:\n",
    "    with open(f'log/{reached_file}', 'rb') as f:\n",
    "        reached = np.load(f)\n",
    "    \n",
    "    with open(f'log/{rejected_file}', 'rb') as f:\n",
    "        rejected = np.load(f)\n",
    "else:\n",
    "    reached, rejected = sampler.sample_reachable_points()"
   ]
  },
  {
   "cell_type": "code",
   "execution_count": 7,
   "metadata": {},
   "outputs": [],
   "source": [
    "if not load_from_file:\n",
    "    date = datetime.now().strftime(\"%Y_%m_%d-%I_%M_%S_%p\")\n",
    "    shape_str = f'{shape[0]}x{shape[1]}x{shape[2]}'\n",
    "    with open(f'./log/reached_{shape_str}_{date}.sav', 'wb') as f:\n",
    "        np.save(f, reached)\n",
    "        \n",
    "    with open(f'./log/rejected_{shape_str}_{date}.sav', 'wb') as f:\n",
    "        np.save(f, rejected)"
   ]
  },
  {
   "cell_type": "code",
   "execution_count": 8,
   "metadata": {},
   "outputs": [],
   "source": [
    "reached = np.array(reached)\n",
    "rejected = np.array(rejected)\n",
    "rxs, rys, rzs = reached[:, 0, 3], reached[:, 1, 3], reached[:, 2, 3]\n",
    "nxs, nys, nzs = rejected[:, 0, 3], rejected[:, 1, 3], rejected[:, 2, 3]\n",
    "pos = np.stack((rxs, rys, rzs), axis=1)"
   ]
  },
  {
   "cell_type": "code",
   "execution_count": 9,
   "metadata": {},
   "outputs": [],
   "source": [
    "def cuboid_data(o, size=(1,1,1)):\n",
    "    X = [[[0, 1, 0], [0, 0, 0], [1, 0, 0], [1, 1, 0]],\n",
    "         [[0, 0, 0], [0, 0, 1], [1, 0, 1], [1, 0, 0]],\n",
    "         [[1, 0, 1], [1, 0, 0], [1, 1, 0], [1, 1, 1]],\n",
    "         [[0, 0, 1], [0, 0, 0], [0, 1, 0], [0, 1, 1]],\n",
    "         [[0, 1, 0], [0, 1, 1], [1, 1, 1], [1, 1, 0]],\n",
    "         [[0, 1, 1], [0, 0, 1], [1, 0, 1], [1, 1, 1]]]\n",
    "    X = np.array(X).astype(float)\n",
    "    for i in range(3):\n",
    "        X[:,:,i] *= size[i]\n",
    "    X += np.array(o)\n",
    "    return X\n",
    "\n",
    "def plotCubeAt(position, size=None, color='C0', **kwargs):\n",
    "    cube = cuboid_data(position, size=size)\n",
    "    return Poly3DCollection(cube, **kwargs)"
   ]
  },
  {
   "cell_type": "code",
   "execution_count": 10,
   "metadata": {},
   "outputs": [],
   "source": [
    "def get_cuboid(pos, size=(1,1,1)):\n",
    "    x, y, z = [0, 1], [0, 1], [0, 1]\n",
    "    vertices = np.vstack(np.meshgrid(x,y,z)).reshape(3,-1).T\n",
    "    vertices = np.array(vertices).astype(float)\n",
    "    for i, s in enumerate(size):\n",
    "        vertices[:, i] *= s\n",
    "    vertices += np.array(pos)\n",
    "    xx, yy, zz = vertices[:, 0], vertices[:, 1], vertices[:, 2]\n",
    "    faces = [\n",
    "        [0, 1, 2],\n",
    "        [1, 2, 3],\n",
    "        [0, 1, 4],\n",
    "        [1, 5, 4],\n",
    "        [1, 3, 5],\n",
    "        [3, 7, 5],\n",
    "        [2, 3, 6],\n",
    "        [3, 7, 6],\n",
    "        [0, 2, 4],\n",
    "        [2, 6, 4],\n",
    "        [4, 5, 6],\n",
    "        [5, 7, 6]\n",
    "    ]\n",
    "    return xx, yy, zz, faces\n",
    "\n",
    "def plot_cuboid(pos, size=(1,1,1), **kwargs):\n",
    "    xx, yy, zz, faces = get_cuboid(pos, size)\n",
    "    return mlab.triangular_mesh(xx, yy, zz, faces, **kwargs)"
   ]
  },
  {
   "cell_type": "code",
   "execution_count": 11,
   "metadata": {},
   "outputs": [],
   "source": [
    "def isin_tolerance(A, B, tol):\n",
    "    A = np.asarray(A)\n",
    "    B = np.asarray(B)\n",
    "\n",
    "    Bs = np.sort(B) # skip if already sorted\n",
    "    idx = np.searchsorted(Bs, A)\n",
    "\n",
    "    linvalid_mask = idx==len(B)\n",
    "    idx[linvalid_mask] = len(B)-1\n",
    "    lval = Bs[idx] - A\n",
    "    lval[linvalid_mask] *=-1\n",
    "\n",
    "    rinvalid_mask = idx==0\n",
    "    idx1 = idx-1\n",
    "    idx1[rinvalid_mask] = 0\n",
    "    rval = A - Bs[idx1]\n",
    "    rval[rinvalid_mask] *=-1\n",
    "    return np.minimum(lval, rval) <= tol"
   ]
  },
  {
   "cell_type": "code",
   "execution_count": 12,
   "metadata": {},
   "outputs": [],
   "source": [
    "class VoxelPlotter:\n",
    "    def __init__(self, fig, sampler, pos, centroids) -> None:\n",
    "        \n",
    "        self.index = -1\n",
    "        self.fig = fig\n",
    "        self.fig.scene.interactor.add_observer('KeyPressEvent', self.handle_keypress)\n",
    "        \n",
    "        self.pos = pos\n",
    "        self.Z = sampler.zs\n",
    "        self.n_z = len(self.Z)\n",
    "        \n",
    "        self.xstep = sampler.xs[1] - sampler.xs[0]\n",
    "        self.ystep = sampler.ys[1] - sampler.ys[0]\n",
    "        self.zstep = sampler.zs[1] - sampler.zs[0]\n",
    "\n",
    "        xmin = np.min(sampler.xs) - self.xstep\n",
    "        xmax = np.max(sampler.xs) + self.xstep\n",
    "        ymin = np.min(sampler.ys) - 1\n",
    "        ymax = np.max(sampler.ys) + 1\n",
    "        zmin = np.min(sampler.zs) - self.zstep\n",
    "        zmax = np.max(sampler.zs) + self.zstep\n",
    "        self.bounds = np.array([xmin, xmax, ymin, ymax, zmin, zmax])\n",
    "        \n",
    "        # Define mlab pipeline\n",
    "        source = mlab.pipeline.scalar_scatter(pos[:, 0], pos[:, 1], pos[:, 2], figure=fig)\n",
    "        source2 = mlab.pipeline.scalar_scatter(centroids[:, :, 0], centroids[:, :, 1], centroids[:, :, 2], figure=fig)\n",
    "\n",
    "        \n",
    "        self.clip = mlab.pipeline.data_set_clipper(source, figure=fig)\n",
    "        self.clip.widget.widget.enabled = False\n",
    "        \n",
    "        self.clip.widget.widget_mode = 'Box'\n",
    "        self.clip.filter.clip_function.set_bounds(self.bounds)\n",
    "        self.clip.filter.inside_out = True\n",
    "        self.clip.filter.use_value_as_offset = False\n",
    "\n",
    "        \n",
    "        self.clip_reach = mlab.pipeline.data_set_clipper(source2, figure=fig)\n",
    "        self.clip_reach.widget.widget.enabled = False\n",
    "        \n",
    "        self.clip_reach.widget.widget_mode = 'Box'\n",
    "        self.clip_reach.filter.clip_function.set_bounds(self.bounds)\n",
    "        self.clip_reach.filter.inside_out = True\n",
    "        self.clip_reach.filter.use_value_as_offset = False\n",
    "        \n",
    "        \n",
    "        self.points = mlab.pipeline.glyph(self.clip, figure=fig, color=(0.5, 0., 0.5), mode='cube')\n",
    "        self.points.glyph.glyph_source.glyph_source.x_length = self.xstep * 0.9\n",
    "        self.points.glyph.glyph_source.glyph_source.y_length = self.ystep * 0.9\n",
    "        self.points.glyph.glyph_source.glyph_source.z_length = self.zstep * 0.9\n",
    "\n",
    "        self.reachable_points = mlab.pipeline.glyph(self.clip_reach, figure=fig, color=(1.0, 0.65, 0.), mode='sphere')\n",
    "        self.reachable_points.glyph.glyph_source.glyph_source.radius = self.xstep * 0.9\n",
    "        self.reachable_points.visible = False\n",
    "        \n",
    "        \n",
    "        self.z_label = mlab.text(0.95, 0.9, '', figure=fig, width=0.10)\n",
    "        self.z_label.visible = False\n",
    "        self.z_label.actor.text_scale_mode = 'viewport'\n",
    "        self.z_label.property.background_color = (170/255, 170/255, 255/255)\n",
    "        self.z_label.property.background_opacity = 0.5\n",
    "        self.z_label.property.justification = 'right'\n",
    "        self.z_label.property.vertical_justification = 'centered'\n",
    "    \n",
    "        mlab.draw(figure=self.fig)\n",
    "    \n",
    "    \n",
    "    def handle_keypress(self, vtk_obj, event) -> None:\n",
    "        key = vtk_obj.GetKeySym()\n",
    "        if key == 'Home':\n",
    "            self.index = (self.index + 1) if self.index < self.n_z - 1 else 0\n",
    "            self.update()\n",
    "        elif key == 'End':\n",
    "            self.index = (self.index - 1) if self.index > 0 else self.n_z - 1\n",
    "            self.update()\n",
    "        elif key == 'BackSpace':\n",
    "            self.index = -1\n",
    "            self.update()\n",
    "        \n",
    "    \n",
    "    def update(self) -> None:\n",
    "        if self.index < 0:\n",
    "            self.z_label.text = ''\n",
    "            self.clip.filter.clip_function.set_bounds(self.bounds)\n",
    "            self.reachable_points.visible = False\n",
    "        else:\n",
    "            self.reachable_points.visible = True\n",
    "            self.z_label.visible = True\n",
    "            self.z_label.text = f'Current Z : {self.Z[self.index]:.5f}'\n",
    "            zmin = self.Z[self.index] - self.zstep / 2\n",
    "            zmax = self.Z[self.index] + self.zstep / 2\n",
    "            self.clip.filter.clip_function.set_bounds([*self.bounds[:4], zmin, zmax])\n",
    "            self.clip_reach.filter.clip_function.set_bounds([*self.bounds[:4], zmin, zmax])\n",
    "        \n",
    "        self.z_label.update_pipeline()\n",
    "        mlab.draw(figure=self.fig)"
   ]
  },
  {
   "cell_type": "code",
   "execution_count": 13,
   "metadata": {},
   "outputs": [],
   "source": [
    "def get_angles(pos) -> list:\n",
    "        shifted = pos.copy()\n",
    "        shifted[:, 0] -= -0.45981# max X in setup, should probably parametrize but oh well\n",
    "        # shifted[:, :2] *= -1\n",
    "        shifted[:, 0] *= -1\n",
    "        angles = np.arctan2(shifted[:, 0], shifted[:, 1])\n",
    "        \n",
    "        return list(zip(pos, angles))\n",
    "\n",
    "\n",
    "def find_centroids(pos, Z, n_sections : int = 5):\n",
    "    points, angles = list(zip(*get_angles(pos)))\n",
    "    points, angles = np.array(points), np.array(angles)\n",
    "    centroids = [[] for _ in range(Z.shape[0])]\n",
    "    sections = []\n",
    "    previous = 0\n",
    "    angle_step = np.pi / n_sections\n",
    "    for i in range(n_sections):\n",
    "        current = angle_step * (i + 1)\n",
    "        sections.append(points[(angles < current) & (angles >= previous)])\n",
    "        previous = current\n",
    "        \n",
    "    sections = np.array(sections)\n",
    "    for i, z in enumerate(Z):\n",
    "        for section in sections:\n",
    "            P = section[np.isclose(section[:, 2], z)]\n",
    "            if not len(P):\n",
    "                centroids[i].append([float('nan')] * 3)\n",
    "                continue\n",
    "            x = P[:, 0].mean()\n",
    "            y = P[:, 1].mean()\n",
    "            centroids[i].append([x, y, z])\n",
    "            \n",
    "    return np.array(centroids)"
   ]
  },
  {
   "cell_type": "code",
   "execution_count": 14,
   "metadata": {
    "scrolled": true
   },
   "outputs": [],
   "source": [
    "reachable_centroids = find_centroids(pos, sampler.zs)"
   ]
  },
  {
   "cell_type": "code",
   "execution_count": 15,
   "metadata": {},
   "outputs": [],
   "source": [
    "config = {'layers' : []}\n",
    "for i, centroids in enumerate(reachable_centroids):\n",
    "    if np.isnan(centroids).all():\n",
    "        continue\n",
    "    config['layers'].append({\n",
    "        'z' : float(sampler.zs[i]),\n",
    "        'points' : [{'x': x, 'y': y} for x, y in zip(centroids[:, 0].tolist(), centroids[:, 1].tolist())],\n",
    "    })"
   ]
  },
  {
   "cell_type": "code",
   "execution_count": 16,
   "metadata": {},
   "outputs": [],
   "source": [
    "import yaml, json\n",
    "with open(f'../config/reachable_points.yaml', 'w') as f:\n",
    "    yaml.dump(config, f)\n",
    "with open(f'../config/reachable_points.json', 'w') as f:\n",
    "    json.dump(config, f)"
   ]
  },
  {
   "cell_type": "code",
   "execution_count": null,
   "metadata": {},
   "outputs": [
    {
     "name": "stderr",
     "output_type": "stream",
     "text": [
      "libpng warning: iCCP: known incorrect sRGB profile\n"
     ]
    }
   ],
   "source": [
    "visible = True\n",
    "def handle_keypress(event, _):\n",
    "    global visible, points\n",
    "    key = event.GetKeySym()\n",
    "    if key == 'x':\n",
    "        visible = not visible\n",
    "        points.visible = visible\n",
    "\n",
    "fig = mlab.figure(bgcolor=(1., 1., 1.),fgcolor=(0., 0., 0.))\n",
    "points = mlab.points3d(nxs, nys, nzs, figure=fig, color=(1., 0., 0.), opacity=0.25, scale_factor=0.025)\n",
    "mlab.axes()\n",
    "\n",
    "t = VoxelPlotter(fig, sampler, pos, reachable_centroids)\n",
    "rr100 = plot_cuboid([-0.860/2, -0.65850 / 2, 0.0], size=(0.45981 * 2, 0.65850, 0.80091), figure=fig, color=(0.,0.,1.), opacity=0.5)\n",
    "\n",
    "fig.scene.interactor.add_observer('KeyPressEvent', handle_keypress)\n",
    "\n",
    "mlab.show()"
   ]
  },
  {
   "cell_type": "code",
   "execution_count": null,
   "metadata": {},
   "outputs": [],
   "source": [
    "manipulable, n_manipulable = sampler.sample_manipulable_points(reached)"
   ]
  },
  {
   "cell_type": "code",
   "execution_count": null,
   "metadata": {},
   "outputs": [],
   "source": [
    "manipulable = np.array(manipulable)\n",
    "n_manipulable = np.array(n_manipulable)\n",
    "xs, ys, zs = manipulable[:, 0, 3], manipulable[:, 1, 3], manipulable[:, 2, 3]\n",
    "nxs, nys, nzs = n_manipulable[:, 0, 3], n_manipulable[:, 1, 3], n_manipulable[:, 2, 3]\n",
    "pos = np.stack((xs, ys, zs), axis=1)"
   ]
  },
  {
   "cell_type": "code",
   "execution_count": null,
   "metadata": {},
   "outputs": [],
   "source": [
    "visible = True\n",
    "def handle_keypress(event, _):\n",
    "    global visible, points\n",
    "    key = event.GetKeySym()\n",
    "    if key == 'x':\n",
    "        visible = not visible\n",
    "        points.visible = visible\n",
    "\n",
    "fig = mlab.figure(bgcolor=(1., 1., 1.),fgcolor=(0., 0., 0.))\n",
    "fig.scene.interactor.add_observer('KeyPressEvent', handle_keypress)\n",
    "        \n",
    "points = mlab.points3d(nxs, nys, nzs, figure=fig, color=(1., 0., 0.), opacity=0.25, scale_factor=0.025)\n",
    "mlab.axes()\n",
    "\n",
    "t = VoxelPlotter(fig, sampler, pos)\n",
    "rr100 = plot_cuboid([-0.860/2, -0.65850 / 2, 0.0], size=(0.45981 * 2, 0.65850, 0.80091), figure=fig, color=(0.,0.,1.), opacity=0.5)\n",
    "\n",
    "mlab.show()"
   ]
  }
 ],
 "metadata": {
  "kernelspec": {
   "display_name": "Python 3 (ipykernel)",
   "language": "python",
   "name": "python3"
  },
  "language_info": {
   "codemirror_mode": {
    "name": "ipython",
    "version": 3
   },
   "file_extension": ".py",
   "mimetype": "text/x-python",
   "name": "python",
   "nbconvert_exporter": "python",
   "pygments_lexer": "ipython3",
   "version": "3.8.10"
  }
 },
 "nbformat": 4,
 "nbformat_minor": 4
}
