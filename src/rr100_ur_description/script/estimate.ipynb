{
 "cells": [
  {
   "cell_type": "code",
   "execution_count": null,
   "metadata": {},
   "outputs": [],
   "source": [
    "import estimate, rospy\n",
    "import numpy as np\n",
    "import matplotlib.pyplot as plt\n",
    "from mpl_toolkits.mplot3d.art3d import Poly3DCollection\n",
    "%matplotlib qt"
   ]
  },
  {
   "cell_type": "code",
   "execution_count": null,
   "metadata": {},
   "outputs": [],
   "source": [
    "rospy.init_node('test')\n",
    "sampler = estimate.WorkspaceSampler(\n",
    "    'base_footprint', '/kinematics_server/check_collision', '/kinematics_server/goal_pose', \n",
    "    200, [-0.85981, -0.45981], [-0.5, 0.5], [0.0, 1.0], prefix='ur_'\n",
    ")"
   ]
  },
  {
   "cell_type": "code",
   "execution_count": null,
   "metadata": {},
   "outputs": [],
   "source": [
    "reached, rejected = sampler.sample_reachable_points()"
   ]
  },
  {
   "cell_type": "code",
   "execution_count": null,
   "metadata": {},
   "outputs": [],
   "source": [
    "reached = np.array(reached)\n",
    "rejected = np.array(rejected)\n",
    "xs, ys, zs = reached[:, 0, 3], reached[:, 1, 3], reached[:, 2, 3]\n",
    "nxs, nys, nzs = rejected[:, 0, 3], rejected[:, 1, 3], rejected[:, 2, 3]"
   ]
  },
  {
   "cell_type": "code",
   "execution_count": null,
   "metadata": {},
   "outputs": [],
   "source": [
    "def cuboid_data(o, size=(1,1,1)):\n",
    "    X = [[[0, 1, 0], [0, 0, 0], [1, 0, 0], [1, 1, 0]],\n",
    "         [[0, 0, 0], [0, 0, 1], [1, 0, 1], [1, 0, 0]],\n",
    "         [[1, 0, 1], [1, 0, 0], [1, 1, 0], [1, 1, 1]],\n",
    "         [[0, 0, 1], [0, 0, 0], [0, 1, 0], [0, 1, 1]],\n",
    "         [[0, 1, 0], [0, 1, 1], [1, 1, 1], [1, 1, 0]],\n",
    "         [[0, 1, 1], [0, 0, 1], [1, 0, 1], [1, 1, 1]]]\n",
    "    X = np.array(X).astype(float)\n",
    "    for i in range(3):\n",
    "        X[:,:,i] *= size[i]\n",
    "    X += np.array(o)\n",
    "    return X\n",
    "\n",
    "def plotCubeAt(position, size=None, color='C0', **kwargs):\n",
    "    return Poly3DCollection(cuboid_data(position, size=size), **kwargs)"
   ]
  },
  {
   "cell_type": "code",
   "execution_count": null,
   "metadata": {},
   "outputs": [],
   "source": [
    "fig = plt.figure()\n",
    "ax = fig.add_subplot(projection='3d')\n",
    "ax.scatter(xs, ys, zs, c='blue', marker='o', label='Target reached')\n",
    "ax.scatter(nxs, nys, nzs, c='red', marker='x', label='Target not reached or rejected')\n",
    "\n",
    "ax.set_xlim(-1.0, 0.5)\n",
    "print(hasattr(np.repeat('C0', 6), 'size'))\n",
    "cube: Poly3DCollection = plotCubeAt([-0.45981, -0.65850 / 2, 0.0], size=(0.45981 * 2, 0.65850, 0.80091), edgecolors='C4', facecolors=np.repeat('C0', 6), linewidths=1, alpha=0.5)\n",
    "cube.set_label('RR100')\n",
    "# cube.set(label='RR100')\n",
    "ax.add_collection3d(cube)\n",
    "ax.set_aspect('equal')\n",
    "ax.set_xlabel('x')\n",
    "ax.set_ylabel('y')\n",
    "ax.set_zlabel('z')\n",
    "ax.legend()\n",
    "\n",
    "plt.show()"
   ]
  }
 ],
 "metadata": {
  "kernelspec": {
   "display_name": "Python 3",
   "language": "python",
   "name": "python3"
  },
  "language_info": {
   "codemirror_mode": {
    "name": "ipython",
    "version": 3
   },
   "file_extension": ".py",
   "mimetype": "text/x-python",
   "name": "python",
   "nbconvert_exporter": "python",
   "pygments_lexer": "ipython3",
   "version": "3.8.10"
  }
 },
 "nbformat": 4,
 "nbformat_minor": 2
}
